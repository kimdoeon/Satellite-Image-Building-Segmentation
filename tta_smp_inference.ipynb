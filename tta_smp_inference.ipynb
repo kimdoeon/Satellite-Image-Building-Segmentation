{
 "cells": [
  {
   "cell_type": "markdown",
   "metadata": {},
   "source": [
    "# TTA (Test Time Augmentation)"
   ]
  },
  {
   "cell_type": "code",
   "execution_count": null,
   "metadata": {},
   "outputs": [],
   "source": [
    "from modules.utils import load_yaml, rle_encode\n",
    "from modules.model import get_smp_model\n",
    "from modules.dataset import smpDataset\n",
    "from modules.augmentation import *\n",
    "\n",
    "import os\n",
    "import random\n",
    "from tqdm import tqdm\n",
    "\n",
    "import torch\n",
    "import numpy as np\n",
    "import pandas as pd\n",
    "import albumentations as A\n",
    "from albumentations.pytorch import ToTensorV2"
   ]
  },
  {
   "cell_type": "code",
   "execution_count": null,
   "metadata": {},
   "outputs": [],
   "source": [
    "prj_dir = './'\n",
    "config_path = os.path.join(prj_dir, 'config', './predict_smp_512.yaml')\n",
    "config = load_yaml(config_path)"
   ]
  },
  {
   "cell_type": "code",
   "execution_count": null,
   "metadata": {},
   "outputs": [],
   "source": [
    "torch.cuda.manual_seed(config['seed'])\n",
    "torch.manual_seed(config['seed'])\n",
    "np.random.seed(config['seed'])\n",
    "random.seed(config['seed'])\n",
    "torch.backends.cudnn.deterministic = True\n",
    "torch.backends.cudnn.benchmark = False\n",
    "\n",
    "device = torch.device('cuda' if torch.cuda.is_available() else 'cpu')"
   ]
  },
  {
   "cell_type": "code",
   "execution_count": null,
   "metadata": {},
   "outputs": [],
   "source": [
    "df = pd.read_csv(f\"data/test.csv\")\n",
    "\n",
    "images = []\n",
    "for img in df[\"img_path\"]:\n",
    "    path = f\"./data/test_img/{os.path.basename(img)}\"\n",
    "    images.append(path)"
   ]
  },
  {
   "cell_type": "code",
   "execution_count": null,
   "metadata": {},
   "outputs": [],
   "source": [
    "test_dataset = smpDataset(images=images,\n",
    "                          masks=None,\n",
    "                          transform=None,\n",
    "                          infer=True)\n",
    "\n",
    "print('test len:', len(test_dataset))"
   ]
  },
  {
   "cell_type": "code",
   "execution_count": null,
   "metadata": {},
   "outputs": [],
   "source": [
    "model = get_smp_model(name=config['model']['architecture'])\n",
    "\n",
    "model = model(encoder_name=config['model']['encoder'],\n",
    "              encoder_weights=config['model']['encoder_weight'],\n",
    "              in_channels=config['model']['in_channel'],\n",
    "              classes=config['model']['n_classes'],\n",
    ")\n",
    "model.to(device)\n",
    "\n",
    "weights = torch.load(config['model']['pretrained'])\n",
    "model.load_state_dict(weights['model'])"
   ]
  },
  {
   "cell_type": "code",
   "execution_count": null,
   "metadata": {},
   "outputs": [],
   "source": [
    "class TTA:\n",
    "    def __init__(self, transform):\n",
    "        self.transform = transform\n",
    "\n",
    "        self.transforms = [\n",
    "            A.VerticalFlip(p=1),\n",
    "            A.HorizontalFlip(p=1),\n",
    "            A.Compose([\n",
    "                A.HorizontalFlip(p=1),\n",
    "                A.VerticalFlip(p=1),\n",
    "            ]),\n",
    "            A.Rotate(limit=[90, 90], p=1),\n",
    "            A.Rotate(limit=[-90, -90], p=1),\n",
    "        ]\n",
    "\n",
    "    def process(self, image):\n",
    "        images = [self.transform(image=image)['image']]\n",
    "\n",
    "        for t in self.transforms:\n",
    "            images.append(self.transform(image=t(image=image)['image'])['image'])\n",
    "\n",
    "        return torch.tensor(np.array(images), dtype=torch.float32)\n",
    "\n",
    "    def unprocess(self, images):\n",
    "        results = []\n",
    "\n",
    "        results.append(images[0])\n",
    "        results.append(self.transforms[0](image=images[1])['image'])\n",
    "        results.append(self.transforms[1](image=images[2])['image'])\n",
    "        results.append(self.transforms[2](image=images[3])['image'])\n",
    "        results.append(self.transforms[4](image=images[4])['image'])\n",
    "        results.append(self.transforms[3](image=images[5])['image'])\n",
    "\n",
    "        return results\n",
    "\n",
    "transform = A.Compose([\n",
    "    A.Normalize(),\n",
    "    ToTensorV2(),\n",
    "])\n",
    "\n",
    "tta = TTA(transform=transform)"
   ]
  },
  {
   "cell_type": "code",
   "execution_count": null,
   "metadata": {},
   "outputs": [],
   "source": [
    "result = []\n",
    "\n",
    "with torch.no_grad():\n",
    "    model.eval()\n",
    "    for image, filename in tqdm(test_dataset):\n",
    "        images = tta.process(image)\n",
    "        images = images.to(device)\n",
    "\n",
    "        predicts = model(images)\n",
    "\n",
    "        seg_prob = torch.sigmoid(predicts).detach().cpu().numpy().squeeze()\n",
    "        seg = (seg_prob > 0.5).astype(np.uint8)\n",
    "\n",
    "        tta_seg = tta.unprocess(seg)\n",
    "\n",
    "        tta_prob = (tta_seg[0] + tta_seg[1] + tta_seg[2] + tta_seg[3] + tta_seg[4] + tta_seg[5])\n",
    "        tta_image = (tta_prob >= 3.0).astype(np.uint8)\n",
    "    \n",
    "        mask_rle = rle_encode(tta_image)\n",
    "        if mask_rle == '':\n",
    "            result.append(-1)\n",
    "        else:\n",
    "            result.append(mask_rle)"
   ]
  },
  {
   "cell_type": "markdown",
   "metadata": {},
   "source": [
    "# Submission"
   ]
  },
  {
   "cell_type": "code",
   "execution_count": null,
   "metadata": {},
   "outputs": [],
   "source": [
    "submit = pd.read_csv('./data/sample_submission.csv')\n",
    "submit['mask_rle'] = result"
   ]
  },
  {
   "cell_type": "code",
   "execution_count": null,
   "metadata": {},
   "outputs": [],
   "source": [
    "submit.to_csv('./submit25.csv', index=False)"
   ]
  },
  {
   "cell_type": "code",
   "execution_count": null,
   "metadata": {},
   "outputs": [],
   "source": [
    "# from dacon_submit_api import dacon_submit_api \n",
    "\n",
    "# result = dacon_submit_api.post_submission_file(\n",
    "#     './submit22.csv', \n",
    "#     '5eca29221f8e6e442f5d55ccb7455756c26e5f85a5d1aac8208a97db790bbdb9', \n",
    "#     '236092', \n",
    "#     'ADED', \n",
    "#     ''\n",
    "# )"
   ]
  }
 ],
 "metadata": {
  "kernelspec": {
   "display_name": "seg",
   "language": "python",
   "name": "python3"
  },
  "language_info": {
   "codemirror_mode": {
    "name": "ipython",
    "version": 3
   },
   "file_extension": ".py",
   "mimetype": "text/x-python",
   "name": "python",
   "nbconvert_exporter": "python",
   "pygments_lexer": "ipython3",
   "version": "3.11.4"
  },
  "orig_nbformat": 4
 },
 "nbformat": 4,
 "nbformat_minor": 2
}
