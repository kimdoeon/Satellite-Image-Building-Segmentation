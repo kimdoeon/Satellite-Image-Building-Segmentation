{
 "cells": [
  {
   "cell_type": "code",
   "execution_count": null,
   "metadata": {},
   "outputs": [],
   "source": [
    "import re\n",
    "import cv2\n",
    "import matplotlib.pyplot as plt\n",
    "import pandas as pd\n",
    "import numpy as np\n",
    "import os\n",
    "from tqdm.auto import tqdm\n",
    "import torch\n",
    "\n",
    "from sklearn.model_selection import train_test_split"
   ]
  },
  {
   "cell_type": "code",
   "execution_count": null,
   "metadata": {},
   "outputs": [],
   "source": [
    "# RLE 디코딩 함수\n",
    "def rle_decode(mask_rle, shape):\n",
    "    s = mask_rle.split()\n",
    "    starts, lengths = [np.asarray(x, dtype=int) for x in (s[0:][::2], s[1:][::2])]\n",
    "    starts -= 1\n",
    "    ends = starts + lengths\n",
    "    img = np.zeros(shape[0]*shape[1], dtype=np.uint8)\n",
    "    for lo, hi in zip(starts, ends):\n",
    "        img[lo:hi] = 1\n",
    "    return img.reshape(shape)\n",
    "\n",
    "# RLE 인코딩 함수\n",
    "def rle_encode(mask):\n",
    "    pixels = mask.flatten()\n",
    "    pixels = np.concatenate([[0], pixels, [0]])\n",
    "    runs = np.where(pixels[1:] != pixels[:-1])[0] + 1\n",
    "    runs[1::2] -= runs[::2]\n",
    "    return ' '.join(str(x) for x in runs)"
   ]
  },
  {
   "cell_type": "markdown",
   "metadata": {},
   "source": [
    "# Divide"
   ]
  },
  {
   "cell_type": "code",
   "execution_count": null,
   "metadata": {},
   "outputs": [],
   "source": [
    "result = 'data_512_'\n",
    "os.makedirs(result, exist_ok=True)\n",
    "\n",
    "img_dir = os.path.join(result, 'images')\n",
    "os.makedirs(img_dir, exist_ok=True)\n",
    "\n",
    "mask_dir = os.path.join(result, 'masks')\n",
    "os.makedirs(mask_dir, exist_ok=True)\n",
    "\n",
    "df = pd.read_csv('./train2.csv')"
   ]
  },
  {
   "cell_type": "code",
   "execution_count": null,
   "metadata": {},
   "outputs": [],
   "source": [
    "global num\n",
    "\n",
    "def divide_img(filename, dir, image, mask, stride=200, size=224, real_size=512):\n",
    "    global num\n",
    "    for a in range(0, 1024-size+1, stride):\n",
    "        for b in range(0, 1024-size+1, stride):\n",
    "            image_resized = image[a:a+size, b:b+size, :]\n",
    "            mask_resized = mask[a:a+size, b:b+size]\n",
    "\n",
    "            if size != real_size:\n",
    "                image_resized = cv2.resize(image_resized, (real_size, real_size))\n",
    "                mask_resized = cv2.resize(mask_resized, (real_size, real_size))\n",
    "\n",
    "            cv2.imwrite(os.path.join(dir, 'images', f'{filename.replace(\".png\", \"\")}_{num}.png'), image_resized)\n",
    "            cv2.imwrite(os.path.join(dir, 'masks', f'{filename.replace(\".png\", \"\")}_{num}.png'), mask_resized)\n",
    "            num += 1"
   ]
  },
  {
   "cell_type": "code",
   "execution_count": null,
   "metadata": {},
   "outputs": [],
   "source": [
    "for img_path, mask_rle in zip(tqdm(df['img_path']), df['mask_rle']):\n",
    "    filename = os.path.basename(img_path)\n",
    "    image = cv2.imread(img_path)\n",
    "    mask = rle_decode(mask_rle, (image.shape[0], image.shape[1]))\n",
    "\n",
    "    num = 0\n",
    "    divide_img(filename=os.path.basename(img_path), \n",
    "               dir=result,\n",
    "               image=image, \n",
    "               mask=mask, \n",
    "               stride=256, \n",
    "               size=512,\n",
    "               real_size=512)"
   ]
  },
  {
   "cell_type": "code",
   "execution_count": null,
   "metadata": {},
   "outputs": [],
   "source": [
    "for idx in tqdm(range(len(df))):\n",
    "    img_path = os.path.join('train_img', os.path.basename(df.iloc[idx]['img_path']))\n",
    "    mask_rle = df.iloc[idx]['mask_rle']\n",
    "    \n",
    "    image = cv2.imread(img_path)\n",
    "    mask = rle_decode(mask_rle, (image.shape[0], image.shape[1]))\n",
    "\n",
    "    num = 0\n",
    "    divide_img(filename=os.path.basename(img_path), \n",
    "               image=image, \n",
    "               mask=mask, \n",
    "               stride=256, \n",
    "               size=512)"
   ]
  },
  {
   "cell_type": "markdown",
   "metadata": {},
   "source": [
    "# Train Test Split"
   ]
  },
  {
   "cell_type": "code",
   "execution_count": null,
   "metadata": {},
   "outputs": [],
   "source": [
    "global num\n",
    "\n",
    "def divide_img(filename, dir, image, mask, stride=200, size=224, real_size=512):\n",
    "    global num\n",
    "    for a in range(0, 1024-size+1, stride):\n",
    "        for b in range(0, 1024-size+1, stride):\n",
    "            image_resized = image[a:a+size, b:b+size, :]\n",
    "            mask_resized = mask[a:a+size, b:b+size]\n",
    "\n",
    "            if size != real_size:\n",
    "                image_resized = cv2.resize(image_resized, (real_size, real_size))\n",
    "                mask_resized = cv2.resize(mask_resized, (real_size, real_size))\n",
    "\n",
    "            cv2.imwrite(os.path.join(dir, 'images', f'{filename.replace(\".png\", \"\")}_{num}.png'), image_resized)\n",
    "            cv2.imwrite(os.path.join(dir, 'masks', f'{filename.replace(\".png\", \"\")}_{num}.png'), mask_resized)\n",
    "            num += 1"
   ]
  },
  {
   "cell_type": "code",
   "execution_count": null,
   "metadata": {},
   "outputs": [],
   "source": [
    "result = 'data_512_91_masked'\n",
    "os.makedirs(result, exist_ok=True)\n",
    "\n",
    "train_dir = os.path.join(result, 'train')\n",
    "os.makedirs(os.path.join(train_dir, 'images'), exist_ok=True)\n",
    "os.makedirs(os.path.join(train_dir, 'masks'), exist_ok=True)\n",
    "\n",
    "val_dir = os.path.join(result, 'val')\n",
    "os.makedirs(os.path.join(val_dir, 'images'), exist_ok=True)\n",
    "os.makedirs(os.path.join(val_dir, 'masks'), exist_ok=True)"
   ]
  },
  {
   "cell_type": "code",
   "execution_count": null,
   "metadata": {},
   "outputs": [],
   "source": [
    "# df = pd.read_csv('./train2.csv')\n",
    "# t_df = pd.read_csv('./my_train.csv')\n",
    "# x_train, y_train = [], []\n",
    "\n",
    "# for i in range(len(t_df)):\n",
    "#     img_path = df[df['img_id'] == t_df.iloc[i][0]]['img_path'].iloc[0]\n",
    "#     mask_rle = df[df['img_id'] == t_df.iloc[i][0]]['mask_rle'].iloc[0]\n",
    "\n",
    "#     x_train.append(img_path)\n",
    "#     y_train.append(mask_rle)\n",
    "\n",
    "# v_df = pd.read_csv('./my_val.csv')\n",
    "# x_val, y_val = [], []\n",
    "\n",
    "# for i in range(len(v_df)):\n",
    "#     img_path = df[df['img_id'] == v_df.iloc[i][0]]['img_path'].iloc[0]\n",
    "#     mask_rle = df[df['img_id'] == v_df.iloc[i][0]]['mask_rle'].iloc[0]\n",
    "\n",
    "#     x_val.append(img_path)\n",
    "#     y_val.append(mask_rle)"
   ]
  },
  {
   "cell_type": "code",
   "execution_count": null,
   "metadata": {},
   "outputs": [],
   "source": [
    "df = pd.read_csv('./train2.csv')\n",
    "\n",
    "x_train, x_val, y_train, y_val = train_test_split(df['img_path'], \n",
    "                                                  df['mask_rle'], \n",
    "                                                  shuffle=True, \n",
    "                                                  test_size=0.1,\n",
    "                                                  random_state=18)"
   ]
  },
  {
   "cell_type": "code",
   "execution_count": null,
   "metadata": {},
   "outputs": [],
   "source": [
    "for img_path, mask_rle in zip(tqdm(x_train), y_train):\n",
    "    filename = os.path.basename(img_path)\n",
    "    image = cv2.imread(img_path)\n",
    "    mask = rle_decode(mask_rle, (image.shape[0], image.shape[1]))\n",
    "\n",
    "    num = 0\n",
    "\n",
    "    # 1024 -> split 512 * 9\n",
    "    divide_img(filename=os.path.basename(img_path), \n",
    "               dir=train_dir,\n",
    "               image=image, \n",
    "               mask=mask, \n",
    "               stride=256, \n",
    "               size=512,\n",
    "               real_size=512)"
   ]
  },
  {
   "cell_type": "code",
   "execution_count": null,
   "metadata": {},
   "outputs": [],
   "source": [
    "for img_path, mask_rle in zip(tqdm(x_val), y_val):\n",
    "    filename = os.path.basename(img_path)\n",
    "    image = cv2.imread(img_path)\n",
    "    mask = rle_decode(mask_rle, (image.shape[0], image.shape[1]))\n",
    "\n",
    "    num = 0\n",
    "    divide_img(filename=os.path.basename(img_path), \n",
    "               dir=val_dir,\n",
    "               image=image, \n",
    "               mask=mask, \n",
    "               stride=200, \n",
    "               size=224,\n",
    "               real_size=224)"
   ]
  },
  {
   "cell_type": "markdown",
   "metadata": {},
   "source": [
    "# STD, MEAN"
   ]
  },
  {
   "cell_type": "code",
   "execution_count": null,
   "metadata": {},
   "outputs": [],
   "source": [
    "df = pd.read_csv('./train.csv')"
   ]
  },
  {
   "cell_type": "code",
   "execution_count": null,
   "metadata": {},
   "outputs": [],
   "source": [
    "mean = torch.zeros(3)\n",
    "std = torch.zeros(3)\n",
    "\n",
    "for img_path in tqdm(df['img_path']):\n",
    "    image = cv2.imread(img_path)\n",
    "    image = cv2.cvtColor(image, cv2.COLOR_BGR2RGB)\n",
    "    \n",
    "    for c in range(3):\n",
    "        mean[c] += image[:,:,c].mean()\n",
    "        std[c] += image[:,:,c].std()\n",
    "    \n",
    "mean /= len(df)\n",
    "std /= len(df)"
   ]
  },
  {
   "cell_type": "code",
   "execution_count": null,
   "metadata": {},
   "outputs": [],
   "source": [
    "print('mean', mean)\n",
    "print('std', std)"
   ]
  },
  {
   "cell_type": "markdown",
   "metadata": {},
   "source": [
    "# RLE TO MASK"
   ]
  },
  {
   "cell_type": "code",
   "execution_count": null,
   "metadata": {},
   "outputs": [],
   "source": [
    "# RLE 디코딩 함수\n",
    "def rle_decode(mask_rle, shape):\n",
    "    s = mask_rle.split()\n",
    "    starts, lengths = [np.asarray(x, dtype=int) for x in (s[0:][::2], s[1:][::2])]\n",
    "    starts -= 1\n",
    "    ends = starts + lengths\n",
    "    img = np.zeros(shape[0]*shape[1], dtype=np.uint8)\n",
    "    for lo, hi in zip(starts, ends):\n",
    "        img[lo:hi] = 1\n",
    "    return img.reshape(shape)\n",
    "\n",
    "# RLE 인코딩 함수\n",
    "def rle_encode(mask):\n",
    "    pixels = mask.flatten()\n",
    "    pixels = np.concatenate([[0], pixels, [0]])\n",
    "    runs = np.where(pixels[1:] != pixels[:-1])[0] + 1\n",
    "    runs[1::2] -= runs[::2]\n",
    "    return ' '.join(str(x) for x in runs)"
   ]
  },
  {
   "cell_type": "code",
   "execution_count": null,
   "metadata": {},
   "outputs": [],
   "source": [
    "result = 'train2'\n",
    "os.makedirs(result, exist_ok=True)\n",
    "\n",
    "img_dir = os.path.join(result, 'images')\n",
    "os.makedirs(img_dir, exist_ok=True)\n",
    "\n",
    "mask_dir = os.path.join(result, 'masks')\n",
    "os.makedirs(mask_dir, exist_ok=True)"
   ]
  },
  {
   "cell_type": "code",
   "execution_count": null,
   "metadata": {},
   "outputs": [],
   "source": [
    "df = pd.read_csv('./train.csv')"
   ]
  },
  {
   "cell_type": "code",
   "execution_count": null,
   "metadata": {},
   "outputs": [],
   "source": [
    "for idx in tqdm(range(len(df))):\n",
    "    img_path = os.path.join('train_img', os.path.basename(df.iloc[idx]['img_path']))\n",
    "    mask_rle = df.iloc[idx]['mask_rle']\n",
    "        \n",
    "    image = cv2.imread(img_path)\n",
    "    mask = rle_decode(mask_rle, (image.shape[0], image.shape[1]))\n",
    "\n",
    "    cv2.imwrite(os.path.join(img_dir, f'{os.path.basename(img_path)}.png'), image)\n",
    "    cv2.imwrite(os.path.join(mask_dir, f'{os.path.basename(img_path)}.png'), mask)"
   ]
  },
  {
   "cell_type": "markdown",
   "metadata": {},
   "source": [
    "# KFOLD"
   ]
  },
  {
   "cell_type": "code",
   "execution_count": null,
   "metadata": {},
   "outputs": [],
   "source": [
    "from glob import glob\n",
    "from tqdm import tqdm\n",
    "import numpy as np\n",
    "import cv2\n",
    "import os\n",
    "import pandas as pd\n",
    "from sklearn.model_selection import KFold\n",
    "import matplotlib.pyplot as plt\n",
    "import re"
   ]
  },
  {
   "cell_type": "markdown",
   "metadata": {},
   "source": [
    "# Change mask_rle to mask"
   ]
  },
  {
   "cell_type": "code",
   "execution_count": null,
   "metadata": {},
   "outputs": [],
   "source": [
    "def rle_decode(mask_rle, shape):\n",
    "    s = mask_rle.split()\n",
    "    starts, lengths = [np.asarray(x, dtype=int) for x in (s[0:][::2], s[1:][::2])]\n",
    "    starts -= 1\n",
    "    ends = starts + lengths\n",
    "    img = np.zeros(shape[0]*shape[1], dtype=np.uint8)\n",
    "    for lo, hi in zip(starts, ends):\n",
    "        img[lo:hi] = 1\n",
    "    return img.reshape(shape)"
   ]
  },
  {
   "cell_type": "code",
   "execution_count": null,
   "metadata": {},
   "outputs": [],
   "source": [
    "df = pd.read_csv('./train2.csv')"
   ]
  },
  {
   "cell_type": "code",
   "execution_count": null,
   "metadata": {},
   "outputs": [],
   "source": [
    "mask_dir = 'train_mask'\n",
    "os.makedirs(mask_dir, exist_ok=True)"
   ]
  },
  {
   "cell_type": "code",
   "execution_count": null,
   "metadata": {},
   "outputs": [],
   "source": [
    "for i in tqdm(range(len(df))):\n",
    "    mask_rle = df.iloc[i]['mask_rle']\n",
    "    mask = rle_decode(mask_rle, (1024, 1024))\n",
    "\n",
    "    filename = df.iloc[i]['img_path'].replace('train_img', mask_dir)\n",
    "    cv2.imwrite(filename, mask)"
   ]
  },
  {
   "cell_type": "markdown",
   "metadata": {},
   "source": [
    "## KFold"
   ]
  },
  {
   "cell_type": "code",
   "execution_count": null,
   "metadata": {},
   "outputs": [],
   "source": [
    "pattern = r'TRAIN_\\d{4}'\n",
    "num = 5"
   ]
  },
  {
   "cell_type": "code",
   "execution_count": null,
   "metadata": {},
   "outputs": [],
   "source": [
    "kfold_dir = 'kfold'\n",
    "os.makedirs(kfold_dir, exist_ok=True)\n",
    "\n",
    "for i in range(num):\n",
    "    os.makedirs(os.path.join(kfold_dir, f'kfold_{i}'), exist_ok=True)"
   ]
  },
  {
   "cell_type": "code",
   "execution_count": null,
   "metadata": {},
   "outputs": [],
   "source": [
    "images = sorted(glob(\"./train_img/*.png\"))\n",
    "\n",
    "filenames = [re.findall(pattern, path)[0] for path in images]\n",
    "filenames = np.array(filenames)\n",
    "\n",
    "print(f'filenames: {len(filenames)}')"
   ]
  },
  {
   "cell_type": "code",
   "execution_count": null,
   "metadata": {},
   "outputs": [],
   "source": [
    "kfold = KFold(n_splits=num)"
   ]
  },
  {
   "cell_type": "code",
   "execution_count": null,
   "metadata": {},
   "outputs": [],
   "source": [
    "for idx, (train_idx, val_idx) in enumerate(kfold.split(filenames)):\n",
    "    train, val = filenames[train_idx], filenames[val_idx]\n",
    "\n",
    "    with open(os.path.join(kfold_dir, f'kfold_{idx}', 'train.txt'), 'w') as file:\n",
    "        for img in train:\n",
    "            for i in range(9):\n",
    "                file.write(f'{img}_{i}\\n')\n",
    "\n",
    "    with open(os.path.join(kfold_dir, f'kfold_{idx}', 'val.txt'), 'w') as file:\n",
    "        for img in val:\n",
    "            file.write(f'{img}\\n')"
   ]
  },
  {
   "cell_type": "markdown",
   "metadata": {},
   "source": [
    "# (1024x1024) -> (512x512) x 9"
   ]
  },
  {
   "cell_type": "code",
   "execution_count": null,
   "metadata": {},
   "outputs": [],
   "source": [
    "result_dir = 'data_512'\n",
    "os.makedirs(result_dir, exist_ok=True)\n",
    "\n",
    "os.makedirs(os.path.join(result_dir, 'images'), exist_ok=True)\n",
    "os.makedirs(os.path.join(result_dir, 'masks'), exist_ok=True)"
   ]
  },
  {
   "cell_type": "code",
   "execution_count": null,
   "metadata": {},
   "outputs": [],
   "source": [
    "global num\n",
    "\n",
    "def divide_img(filename, dir, image, mask, stride=200, size=224, real_size=512):\n",
    "    global num\n",
    "    for a in range(0, 1024-size+1, stride):\n",
    "        for b in range(0, 1024-size+1, stride):\n",
    "            image_resized = image[a:a+size, b:b+size, :]\n",
    "            mask_resized = mask[a:a+size, b:b+size]\n",
    "\n",
    "            if size != real_size:\n",
    "                image_resized = cv2.resize(image_resized, (real_size, real_size))\n",
    "                mask_resized = cv2.resize(mask_resized, (real_size, real_size))\n",
    "\n",
    "            cv2.imwrite(os.path.join(dir, 'images', f'{filename.replace(\".png\", \"\")}_{num}.png'), image_resized)\n",
    "            cv2.imwrite(os.path.join(dir, 'masks', f'{filename.replace(\".png\", \"\")}_{num}.png'), mask_resized)\n",
    "            num += 1"
   ]
  },
  {
   "cell_type": "code",
   "execution_count": null,
   "metadata": {},
   "outputs": [],
   "source": [
    "for img_path, mask_rle in zip(tqdm(images), df['mask_rle']):\n",
    "    filename = os.path.basename(img_path)\n",
    "    image = cv2.imread(img_path)\n",
    "    mask = rle_decode(mask_rle, (image.shape[0], image.shape[1]))\n",
    "\n",
    "    num = 0\n",
    "    # 1024 -> split 512 * 9\n",
    "    divide_img(filename=os.path.basename(img_path), \n",
    "               dir=result_dir,\n",
    "               image=image, \n",
    "               mask=mask, \n",
    "               stride=256, \n",
    "               size=512,\n",
    "               real_size=512)"
   ]
  },
  {
   "cell_type": "code",
   "execution_count": null,
   "metadata": {},
   "outputs": [],
   "source": [
    "with open(os.path.join('./kfold', f'kfold_0/train.txt'), 'r') as f:\n",
    "    train_list = [line.strip() for line in f]\n",
    "\n",
    "with open(os.path.join('./kfold', f'kfold_0/val.txt'), 'r') as f:\n",
    "    val_list = [line.strip() for line in f]"
   ]
  },
  {
   "cell_type": "code",
   "execution_count": null,
   "metadata": {},
   "outputs": [],
   "source": [
    "val_images, val_masks = [], []\n",
    "for filename in tqdm(val_list):\n",
    "    val_images.append(f'./data/train_img/{filename}.png')\n",
    "    val_masks.append(f'./data/train_mask/{filename}.png')"
   ]
  },
  {
   "cell_type": "code",
   "execution_count": null,
   "metadata": {},
   "outputs": [],
   "source": [
    "val_img_dir = 'val_img'\n",
    "val_mask_dir = 'val_mask'\n",
    "\n",
    "os.makedirs(val_img_dir, exist_ok=True)\n",
    "os.makedirs(val_mask_dir, exist_ok=True)"
   ]
  },
  {
   "cell_type": "code",
   "execution_count": null,
   "metadata": {},
   "outputs": [],
   "source": [
    "global num\n",
    "\n",
    "def divide_img(filename, image, mask, stride=200, size=224, real_size=512):\n",
    "    global num\n",
    "    for a in range(0, 1024-size+1, stride):\n",
    "        for b in range(0, 1024-size+1, stride):\n",
    "            image_resized = image[a:a+size, b:b+size, :]\n",
    "            mask_resized = mask[a:a+size, b:b+size]\n",
    "\n",
    "            if size != real_size:\n",
    "                image_resized = cv2.resize(image_resized, (real_size, real_size))\n",
    "                mask_resized = cv2.resize(mask_resized, (real_size, real_size))\n",
    "\n",
    "            cv2.imwrite(os.path.join(val_img_dir, f'{filename.replace(\".png\", \"\")}_{num}.png'), image_resized)\n",
    "            cv2.imwrite(os.path.join(val_mask_dir, f'{filename.replace(\".png\", \"\")}_{num}.png'), mask_resized)\n",
    "            num += 1"
   ]
  },
  {
   "cell_type": "code",
   "execution_count": null,
   "metadata": {},
   "outputs": [],
   "source": [
    "for img_path, mask_path in zip(tqdm(val_images), val_masks):\n",
    "    filename = os.path.basename(img_path)\n",
    "    image = cv2.imread(img_path.replace('/data', ''))\n",
    "    mask = cv2.imread(mask_path.replace('/data', ''), cv2.IMREAD_GRAYSCALE)\n",
    "    \n",
    "    num = 0\n",
    "    divide_img(filename=os.path.basename(img_path), \n",
    "               image=image, \n",
    "               mask=mask, \n",
    "               stride=200, \n",
    "               size=224,\n",
    "               real_size=224)"
   ]
  }
 ],
 "metadata": {
  "language_info": {
   "name": "python"
  },
  "orig_nbformat": 4
 },
 "nbformat": 4,
 "nbformat_minor": 2
}
