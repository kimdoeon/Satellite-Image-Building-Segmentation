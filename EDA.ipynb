{
 "cells": [
  {
   "cell_type": "code",
   "execution_count": 2,
   "metadata": {},
   "outputs": [],
   "source": [
    "import numpy as np\n",
    "import matplotlib.pyplot as plt\n",
    "import matplotlib.image as img\n",
    "import cv2\n",
    "from glob import glob\n",
    "import random\n",
    "import pandas as pd \n",
    "from tqdm import tqdm\n",
    "from skimage import measure"
   ]
  },
  {
   "cell_type": "code",
   "execution_count": null,
   "metadata": {},
   "outputs": [],
   "source": [
    "root=\"./train2/images/\" #원본 훈련 데이터셋 루트\n",
    "all_train_path = sorted(glob(\"{}*.png\".format(root)))\n",
    "all_mask_path = [p.replace(\"images\",\"masks\") for p in all_train_path]\n",
    "\n",
    "def getImg(pth):\n",
    "    img =  cv2.imread(pth)\n",
    "    msk = cv2.imread(pth,cv2.IMREAD_GRAYSCALE)\n",
    "    return img,msk\n",
    "\n",
    "print(len(all_train_path))"
   ]
  },
  {
   "cell_type": "markdown",
   "metadata": {},
   "source": [
    "### functions"
   ]
  },
  {
   "cell_type": "code",
   "execution_count": null,
   "metadata": {},
   "outputs": [],
   "source": [
    "def getHSV(image):# 녹색, 갈색, 회색, 흰색, 주황색 hsv 마스크 추출\n",
    "\thsv = cv2.cvtColor(image, cv2.COLOR_BGR2HSV)\n",
    "\n",
    "\tgreen_mask = cv2.inRange(hsv, (32,23,23), (90,210,210))\t\n",
    "\tbrown_mask = cv2.inRange(hsv, (74, 74, 74), (255,255,255))\n",
    "\tgrey_mask = cv2.inRange(hsv, (0, 10, 00), (180, 30, 255))\n",
    "\twhite_mask = cv2.inRange(hsv, (0,0,168), (172,111,255))\n",
    "\torange_mask = cv2.inRange(hsv,(5, 75, 25), (25, 255, 255))  \n",
    "\treturn (green_mask, brown_mask, grey_mask, white_mask, orange_mask)\n",
    "\n",
    "# 녹지, 길/황무지, 건물 비율 계산\n",
    "def calc_background_ratio(image,hsv_masks):\n",
    "\tpercentage = lambda mask: round(((mask > 0).mean()) * 100,3)\n",
    "\tgreen_mask1,brown_mask,grey_mask,white_mask,orange_mask = hsv_masks\n",
    "\troads_barrenlands = round(percentage(brown_mask) + percentage(orange_mask),3)\n",
    "\tgreenery = percentage(green_mask1)\n",
    "\tconstructions = round(percentage(grey_mask) + percentage(white_mask),3)\n",
    "\toranges = percentage(orange_mask)\n",
    "\tprint(\"Greenery % - \", greenery,\" \\nRoads/Barren Land % - \",roads_barrenlands,\" \\nConstructions % - \",constructions, \" \\norange % - \",oranges)\n",
    "\treturn (greenery, roads_barrenlands, constructions)\n",
    "\n",
    "# green hsv 마스크를 통한 녹지 비율 계산\n",
    "def calc_green_ratio(green_hsv):\n",
    "\tpercentage = lambda mask: round(((mask > 0).mean()) * 100,3)\n",
    "\tgreenery = percentage(green_hsv)\n",
    "\treturn greenery\n",
    "\n",
    "# 마스크를 읽어 건물 비율 계산\n",
    "def calc_building_ratio(m):\n",
    "\tmask = cv2.imread(m,cv2.IMREAD_GRAYSCALE)\n",
    "\ttotal_pixel = mask.size\n",
    "\tnum_true = np.count_nonzero(mask == 1)\n",
    "\tratio = (num_true / total_pixel)*100\n",
    "\tratio = round(ratio,3)\n",
    "\treturn ratio\n",
    "\n",
    "#그래프의 범위(bin)에 해당하는 데이터 개수 카운트\n",
    "def count(ratios,cnt,bins):\n",
    "\tcnt = cnt\n",
    "\tfor\tn in ratios:\n",
    "\t\tfor i,v in enumerate(bins):\n",
    "\t\t\tif(n<=v):\n",
    "\t\t\t\tcnt[i]+=1\n",
    "\t\t\t\tbreak\n",
    "\treturn cnt "
   ]
  },
  {
   "cell_type": "code",
   "execution_count": null,
   "metadata": {},
   "outputs": [],
   "source": [
    "#데이터셋의 건물/녹지 비율 계산\n",
    "building_ratios = []\n",
    "green_ratios = []\n",
    "\n",
    "for i,m in enumerate(tqdm(all_mask_path)):\n",
    "    building_ratios.append(round(calc_building_ratio(m),3))\n",
    "    img_pth = m.replace(\"masks\",\"images\")\n",
    "    img,msk = getImg(img_pth)\n",
    "    green_hsv = getHSV(img)[0]\n",
    "    green_ratios.append(calc_green_ratio(green_hsv))\n",
    "\n",
    "print(len(building_ratios))\n",
    "print(len(green_ratios))"
   ]
  },
  {
   "cell_type": "markdown",
   "metadata": {},
   "source": [
    "### 건물/녹지 비율 데이터프레임/CSV 생성"
   ]
  },
  {
   "cell_type": "code",
   "execution_count": null,
   "metadata": {},
   "outputs": [],
   "source": [
    "# 데이터프레임 생성\n",
    "df = pd.DataFrame(building_ratios,columns=['building'])\n",
    "df['greenery'] = green_ratios\n",
    "df['img'] = [n.split(\"/\")[-1] for n in all_mask_path]"
   ]
  },
  {
   "cell_type": "code",
   "execution_count": null,
   "metadata": {},
   "outputs": [],
   "source": [
    "#csv 생성\n",
    "df.to_csv(\"./new_csvs/7140_csv.csv\")"
   ]
  },
  {
   "cell_type": "code",
   "execution_count": null,
   "metadata": {},
   "outputs": [],
   "source": [
    "# OBA + 이미지 패치 csv 병합\n",
    "df1 = pd.read_csv(\"./new_csvs/20000_csv.csv\")\n",
    "df2 = pd.read_csv(\"./new_csvs/64260_csv.csv\")\n",
    "df = pd.concat([df1, df2], axis=0)"
   ]
  },
  {
   "cell_type": "code",
   "execution_count": null,
   "metadata": {},
   "outputs": [],
   "source": [
    "df = pd.read_csv(\"./new_csvs/7140_csv.csv\") #원본 데이터셋 csv"
   ]
  },
  {
   "cell_type": "code",
   "execution_count": null,
   "metadata": {},
   "outputs": [],
   "source": [
    "df = pd.read_csv(\"./new_csvs/64260_csv.csv\") #이미지패치 데이터셋 csv"
   ]
  },
  {
   "cell_type": "code",
   "execution_count": 3,
   "metadata": {},
   "outputs": [],
   "source": [
    "df = pd.read_csv(\"./new_csvs/20000_csv.csv\") #OBA 데이터셋 csv"
   ]
  },
  {
   "cell_type": "code",
   "execution_count": 4,
   "metadata": {},
   "outputs": [],
   "source": [
    "#읽어들인 csv의 class 쪼개기\n",
    "# class1 : 건물 <=10 & 20<= 녹지 <=80\n",
    "# class2 : 건물 <=10 & 녹지 <20\n",
    "# class3 : 건물 <=10 & 80< 녹지\n",
    "# class4 : 10 < 건물\n",
    "\n",
    "under_b10_g2080 = df[(df['building']<=10) & (20<=df['greenery']) & (df['greenery']<=80)]\n",
    "under_b10_g20 = df[(df['building']<=10) & (df['greenery']<20)]\n",
    "under_b10_g80 = df[(df['building']<=10) & (df['greenery']>80) ]\n",
    "over_b10 = df[df['building']>10]"
   ]
  },
  {
   "cell_type": "markdown",
   "metadata": {},
   "source": [
    "### 녹지/건물 비율 원형/막대 그래프"
   ]
  },
  {
   "cell_type": "code",
   "execution_count": 5,
   "metadata": {},
   "outputs": [
    {
     "data": {
      "image/png": "[encoded data removed]",
      "text/plain": [
       "<Figure size 1000x500 with 1 Axes>"
      ]
     },
     "metadata": {},
     "output_type": "display_data"
    }
   ],
   "source": [
    "#각 클래스별 비율 원형그래프 출력\n",
    "\n",
    "counts = [len(under_b10_g2080),len(under_b10_g20),len(under_b10_g80),len(over_b10)]\n",
    "def plot_list_as_pie_chart(data_list):\n",
    "    total_count = sum(data_list)\n",
    "\n",
    "    proportions = [count / total_count for count in data_list]\n",
    "\n",
    "    labels = [\"building<=10 & 20<green<80\",\"building<=10 & green<20\",\"building<=10 & 80<green\",\"10<building\"]\n",
    "\n",
    "    plt.figure(figsize=(10,5))\n",
    "    plt.rc('font', size=10)  \n",
    "    plt.pie(proportions, labels=labels, autopct='%1.1f%%')\n",
    "    plt.title('building&green ratio')\n",
    "\n",
    "    plt.show()\n",
    "plot_list_as_pie_chart(counts)"
   ]
  },
  {
   "cell_type": "code",
   "execution_count": 7,
   "metadata": {},
   "outputs": [
    {
     "data": {
      "image/png": "[encoded data removed]",
      "text/plain": [
       "<Figure size 640x480 with 1 Axes>"
      ]
     },
     "metadata": {},
     "output_type": "display_data"
    },
    {
     "name": "stdout",
     "output_type": "stream",
     "text": [
      "[5060, 2347, 926, 11667]\n"
     ]
    }
   ],
   "source": [
    "# 각 클래스별 비율 막대그래프 출력\n",
    "\n",
    "counts = [len(under_b10_g2080),len(under_b10_g20),len(under_b10_g80),len(over_b10)]\n",
    "def plot_list_as_graph(data_list):\n",
    "    x_values = [\"class1\",\"class2\",\"class3\",\"class4\"] \n",
    "    y_values = data_list\n",
    "    x = np.arange(4)\n",
    "\n",
    "    plt.bar(x,y_values)\n",
    "    plt.xticks(x,x_values)\n",
    "    plt.rc('font', size=10)  \n",
    "    plt.ylabel('count')\n",
    "    # plt.title('OBA')  \n",
    "\n",
    "    plt.show()\n",
    "\n",
    "plot_list_as_graph(counts)\n",
    "\n",
    "print(counts)"
   ]
  },
  {
   "cell_type": "markdown",
   "metadata": {},
   "source": [
    "### 건물 비율 막대그래프 "
   ]
  },
  {
   "cell_type": "code",
   "execution_count": null,
   "metadata": {},
   "outputs": [],
   "source": [
    "#건물 비율(녹지비율 제외) 막대 그래프 출력\n",
    "\n",
    "counts=[0,0,0,0,0,0,0,0,0,0]\n",
    "bins = [10, 20, 30, 40, 50, 60, 70, 80, 90, 100]\n",
    "counts = count(df['building'],counts,bins)\n",
    "\n",
    "print(sum(counts),counts)"
   ]
  },
  {
   "cell_type": "code",
   "execution_count": null,
   "metadata": {},
   "outputs": [],
   "source": [
    "def plot_list_as_graph(data_list):\n",
    "    x_values = [10,20,30,40,50,60,70,80,90,100] \n",
    "    y_values = data_list\n",
    "    x = np.arange(10)\n",
    "\n",
    "    plt.bar(x,y_values)\n",
    "    plt.xticks(x,x_values)\n",
    "    \n",
    "    plt.xlabel('building ratio') \n",
    "    plt.ylabel('count')\n",
    "    # plt.title(' building ratio')  \n",
    "\n",
    "    plt.show()\n",
    "\n",
    "plot_list_as_graph(counts)"
   ]
  },
  {
   "cell_type": "markdown",
   "metadata": {},
   "source": [
    "### 녹지 비율별 분포"
   ]
  },
  {
   "cell_type": "code",
   "execution_count": null,
   "metadata": {},
   "outputs": [],
   "source": [
    "g10 = (df[df['greenery']<=10])\n",
    "g20 = (df[(df['greenery']>10) & (df['greenery']<20)])\n",
    "g30 = (df[(df['greenery']>=20) & (df['greenery']<30)])\n",
    "g40 = (df[(df['greenery']>=30) & (df['greenery']<40)])\n",
    "g50 = (df[(df['greenery']>=40) & (df['greenery']<50)])\n",
    "g60 = (df[(df['greenery']>=50) & (df['greenery']<60)])\n",
    "g70 = (df[(df['greenery']>=60) & (df['greenery']<70)])\n",
    "g80 = (df[(df['greenery']>=70) & (df['greenery']<80)])\n",
    "g90 = (df[(df['greenery']>=80) & (df['greenery']<90)])\n",
    "g100 = (df[(df['greenery']>=90) & (df['greenery']<100)])\n"
   ]
  },
  {
   "cell_type": "code",
   "execution_count": null,
   "metadata": {},
   "outputs": [],
   "source": [
    "count_g= [0,0,0,0,0,0,0,0,0,0]\n",
    "bins = [10, 20, 30, 40, 50, 60, 70, 80, 90, 100]\n",
    "\n",
    "count_g = count(df['greenery'],count_g,bins)"
   ]
  },
  {
   "cell_type": "code",
   "execution_count": null,
   "metadata": {},
   "outputs": [],
   "source": [
    "def plot_list_as_graph(data_list):\n",
    "    x_values = [10,20,30,40,50,60,70,80,90,100]  # 리스트의 인덱스를 x축으로 사용\n",
    "    y_values = data_list # 리스트의 값(요소)를 y축으로 사용\n",
    "    x = np.arange(10)\n",
    "\n",
    "    # plt.plot(x_values, y_values, linestyle='-')\n",
    "    plt.bar(x,y_values)\n",
    "    plt.xticks(x,x_values)\n",
    "    plt.rc('font', size=10)  \n",
    "    plt.xlabel('greenery ratio') \n",
    "    plt.ylabel('count')\n",
    "    # plt.title('greenery ratio distribution')  \n",
    "    \n",
    "    # plt.grid()\n",
    "    plt.show()\n",
    "\n",
    "plot_list_as_graph(count_g)\n",
    "# plot_list_as_graph(patch_count)\n"
   ]
  },
  {
   "cell_type": "code",
   "execution_count": null,
   "metadata": {},
   "outputs": [],
   "source": [
    "def plot_list_as_pie_chart(data_list):\n",
    "    total_count = sum(data_list)\n",
    "\n",
    "    proportions = [count / total_count for count in data_list]\n",
    "\n",
    "    labels = [i for i in range(10,110,10)]\n",
    "\n",
    "    plt.figure(figsize=(15,15))\n",
    "    plt.rc('font', size=20)  \n",
    "    plt.pie(proportions, labels=labels, autopct='%1.1f%%')\n",
    "    plt.title('building&green ratio')\n",
    "\n",
    "    plt.show()\n",
    "plot_list_as_pie_chart(count_g)"
   ]
  }
 ],
 "metadata": {
  "kernelspec": {
   "display_name": "Python 3",
   "language": "python",
   "name": "python3"
  },
  "language_info": {
   "codemirror_mode": {
    "name": "ipython",
    "version": 3
   },
   "file_extension": ".py",
   "mimetype": "text/x-python",
   "name": "python",
   "nbconvert_exporter": "python",
   "pygments_lexer": "ipython3",
   "version": "3.10.7"
  },
  "orig_nbformat": 4
 },
 "nbformat": 4,
 "nbformat_minor": 2
}
